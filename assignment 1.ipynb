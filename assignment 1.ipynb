{
 "cells": [
  {
   "cell_type": "code",
   "execution_count": null,
   "id": "8ae52a38-2f42-469e-90f1-085ef46ada63",
   "metadata": {},
   "outputs": [],
   "source": [
    "ans 1"
   ]
  },
  {
   "cell_type": "code",
   "execution_count": 6,
   "id": "b48cb40f-de13-4a8f-b2a5-3b223320446c",
   "metadata": {},
   "outputs": [],
   "source": [
    "t = (23.45,'pwskills',[3,4,5],(2,5))"
   ]
  },
  {
   "cell_type": "code",
   "execution_count": null,
   "id": "074d9756-5281-4b33-bbb1-449150f9572e",
   "metadata": {},
   "outputs": [],
   "source": [
    "ans 2"
   ]
  },
  {
   "cell_type": "code",
   "execution_count": null,
   "id": "1f8eaa98-5b85-4793-8684-daba9db8a967",
   "metadata": {},
   "outputs": [],
   "source": [
    "var1=string\n",
    "var2=string\n",
    "var3=list\n",
    "var4=integer"
   ]
  },
  {
   "cell_type": "code",
   "execution_count": null,
   "id": "a2aa600b-dae0-4a38-9768-2625d6f77858",
   "metadata": {},
   "outputs": [],
   "source": [
    "ans 3"
   ]
  },
  {
   "cell_type": "code",
   "execution_count": null,
   "id": "1181504f-bd7e-49ae-9190-4f2f48f43203",
   "metadata": {},
   "outputs": [],
   "source": [
    "divison operator\n",
    "28/14\n",
    "2\n",
    "modulus operator\n",
    "1/4\n",
    "1\n",
    "division floor\n",
    "5//4\n",
    "1\n",
    "power operator\n",
    "2**3\n",
    "8"
   ]
  },
  {
   "cell_type": "code",
   "execution_count": null,
   "id": "24242a61-1efd-4dd0-a693-0c1be0f9fb4b",
   "metadata": {},
   "outputs": [],
   "source": [
    "ans 4"
   ]
  },
  {
   "cell_type": "code",
   "execution_count": 20,
   "id": "8147cfde-9f25-4e06-a321-cdd817d37e80",
   "metadata": {},
   "outputs": [],
   "source": [
    "l=[2,3,4,5,6,5,'pwskills',True,21.5,[2,5,6]]\n"
   ]
  },
  {
   "cell_type": "code",
   "execution_count": 30,
   "id": "e3b7e43c-2e5b-4cf6-8250-725fab46f41a",
   "metadata": {},
   "outputs": [
    {
     "name": "stdout",
     "output_type": "stream",
     "text": [
      "2 <class 'int'>\n",
      "3 <class 'int'>\n",
      "4 <class 'int'>\n",
      "5 <class 'int'>\n",
      "6 <class 'int'>\n",
      "5 <class 'int'>\n",
      "pwskills <class 'str'>\n",
      "True <class 'bool'>\n",
      "21.5 <class 'float'>\n",
      "[2, 5, 6] <class 'list'>\n"
     ]
    }
   ],
   "source": [
    "for i in l:\n",
    "    print((i),type(i))\n",
    "    \n",
    "    "
   ]
  },
  {
   "cell_type": "code",
   "execution_count": null,
   "id": "ba9a10fe-d03a-4431-8a94-b851c5249009",
   "metadata": {},
   "outputs": [],
   "source": [
    "ans5 dont know"
   ]
  },
  {
   "cell_type": "code",
   "execution_count": null,
   "id": "be6ec5ba-a87f-40de-91e0-6098a7e57c00",
   "metadata": {},
   "outputs": [],
   "source": [
    "ans6"
   ]
  },
  {
   "cell_type": "code",
   "execution_count": 60,
   "id": "dc33ae25-e6b5-4bbb-89bc-1e0dc068ebfb",
   "metadata": {},
   "outputs": [
    {
     "name": "stdout",
     "output_type": "stream",
     "text": [
      "3 is divisible by 3\n",
      "6 is divisible by 3\n",
      "9 is divisible by 3\n",
      "12 is divisible by 3\n",
      "15 is divisible by 3\n",
      "18 is divisible by 3\n",
      "21 is divisible by 3\n",
      "24 is divisible by 3\n",
      "25 is not divisible by 3\n"
     ]
    }
   ],
   "source": [
    "l=1,2,3,4,5,6,7,8,9,10,11,12,13,14,15,16,17,18,19,20,21,22,23,24,25\n",
    "\n",
    "for i in l:\n",
    "    if i % 3==0:\n",
    "        print((i),'is divisible by 3')\n",
    "else:\n",
    "    print((i),'is not divisible by 3')"
   ]
  },
  {
   "cell_type": "code",
   "execution_count": 61,
   "id": "533a057f-a8cc-4484-8e87-547567b5b75e",
   "metadata": {},
   "outputs": [
    {
     "ename": "SyntaxError",
     "evalue": "invalid syntax (3492390087.py, line 1)",
     "output_type": "error",
     "traceback": [
      "\u001b[0;36m  Cell \u001b[0;32mIn[61], line 1\u001b[0;36m\u001b[0m\n\u001b[0;31m    ans 8\u001b[0m\n\u001b[0m        ^\u001b[0m\n\u001b[0;31mSyntaxError\u001b[0m\u001b[0;31m:\u001b[0m invalid syntax\n"
     ]
    }
   ],
   "source": [
    "ans 8 "
   ]
  },
  {
   "cell_type": "code",
   "execution_count": null,
   "id": "c7356cfe-c90c-44eb-afbc-b50853228585",
   "metadata": {},
   "outputs": [],
   "source": [
    "mutable are those data type which can be cahnge the data at a particular index and immutable are those data typer ehich cannot\n",
    "be changes or alter\n",
    "mutable eg list\n",
    "l=[2,5,8,'string',True]\n",
    "immutale eg is string\n",
    "a='string'"
   ]
  },
  {
   "cell_type": "code",
   "execution_count": null,
   "id": "a2901b64-b90c-4f33-bca1-5bce1a28a5db",
   "metadata": {},
   "outputs": [],
   "source": []
  }
 ],
 "metadata": {
  "kernelspec": {
   "display_name": "Python 3 (ipykernel)",
   "language": "python",
   "name": "python3"
  },
  "language_info": {
   "codemirror_mode": {
    "name": "ipython",
    "version": 3
   },
   "file_extension": ".py",
   "mimetype": "text/x-python",
   "name": "python",
   "nbconvert_exporter": "python",
   "pygments_lexer": "ipython3",
   "version": "3.10.8"
  }
 },
 "nbformat": 4,
 "nbformat_minor": 5
}
