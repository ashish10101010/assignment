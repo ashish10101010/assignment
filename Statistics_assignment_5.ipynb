{
  "nbformat": 4,
  "nbformat_minor": 0,
  "metadata": {
    "colab": {
      "provenance": []
    },
    "kernelspec": {
      "name": "python3",
      "display_name": "Python 3"
    },
    "language_info": {
      "name": "python"
    }
  },
  "cells": [
    {
      "cell_type": "markdown",
      "source": [
        "##Statistics assignment_5"
      ],
      "metadata": {
        "id": "GTsKZYkDvi-g"
      }
    },
    {
      "cell_type": "code",
      "execution_count": 4,
      "metadata": {
        "id": "P-Xwu9wPvhAh"
      },
      "outputs": [],
      "source": [
        "# Q1: What is Estimation Statistics? Explain point estimate and interval estimate.\n",
        "# Estimation Statistics: Estimation in statistics involves using sample data to make inferences or estimates about population parameters.\n",
        "\n",
        "# Point Estimate: A single value that best approximates an unknown population parameter. For example, using the sample mean as an estimate of the population mean.\n",
        "\n",
        "# Interval Estimate: A range of values within which the population parameter is estimated to lie, along with a level of confidence.\n",
        "# It takes into account both the point estimate and the variability in the data."
      ]
    },
    {
      "cell_type": "code",
      "source": [
        "# Q2: Write a Python function to estimate the population mean using a sample mean and standard deviation\n",
        "import numpy as np\n",
        "\n",
        "def estimate_population_mean(sample_mean, sample_std, n):\n",
        "    # Calculate standard error of the mean\n",
        "    std_error = sample_std / np.sqrt(n)\n",
        "\n",
        "    # Calculate margin of error for 95% confidence (z-score for 95% confidence is 1.96)\n",
        "    margin_of_error = 1.96 * std_error\n",
        "\n",
        "    # Calculate lower and upper bounds of the confidence interval\n",
        "    lower_bound = sample_mean - margin_of_error\n",
        "    upper_bound = sample_mean + margin_of_error\n",
        "\n",
        "    return sample_mean, lower_bound, upper_bound\n",
        "\n",
        "# Example usage\n",
        "sample_mean = 500\n",
        "sample_std = 50\n",
        "n = 50\n",
        "\n",
        "mean_estimate, lower, upper = estimate_population_mean(sample_mean, sample_std, n)\n",
        "print(f\"Estimated population mean: {mean_estimate}\")\n",
        "print(f\"95% Confidence Interval: [{lower}, {upper}]\")\n",
        "\n"
      ],
      "metadata": {
        "colab": {
          "base_uri": "https://localhost:8080/"
        },
        "id": "MURC81yzvpdp",
        "outputId": "31b8f44f-9ec1-4080-af10-1133f3a5c12b"
      },
      "execution_count": 1,
      "outputs": [
        {
          "output_type": "stream",
          "name": "stdout",
          "text": [
            "Estimated population mean: 500\n",
            "95% Confidence Interval: [486.1407070887437, 513.8592929112564]\n"
          ]
        }
      ]
    },
    {
      "cell_type": "code",
      "source": [
        "# Q3: What is Hypothesis testing? Why is it used? State the importance of Hypothesis testing.\n",
        "# Hypothesis Testing: Hypothesis testing is a statistical method used to make inferences about a population parameter based on sample data. It involves formulating a hypothesis, collecting data, and using statistical tests to determine whether the hypothesis is likely to be true or false.\n",
        "\n",
        "# Importance: Hypothesis testing allows researchers to:\n",
        "\n",
        "# Evaluate the validity of assumptions or claims about a population based on sample data.\n",
        "# Make decisions in scientific research, business, medicine, and many other fields based on statistical evidence.\n",
        "# Assess the effectiveness of interventions or treatments."
      ],
      "metadata": {
        "id": "rpx9Zf2fvpiR"
      },
      "execution_count": 2,
      "outputs": []
    },
    {
      "cell_type": "code",
      "source": [
        "# Q4: Create a hypothesis that states whether the average weight of male college students is greater than the average weight of female college students.\n",
        "\n",
        "# Hypothesis:\n",
        "# Null Hypothesis: The average weight of male college students is equal to or less than the average weight of female college students\n",
        "# Alternative Hypothesis: The average weight of male college students is greater than the average weight of female college students\n"
      ],
      "metadata": {
        "id": "oQNjCxDDvplj"
      },
      "execution_count": 3,
      "outputs": []
    },
    {
      "cell_type": "code",
      "source": [
        "#Q5: Write a Python script to conduct a hypothesis test on the difference between two population means, given a sample from each population.\n",
        "import numpy as np\n",
        "from scipy import stats\n",
        "\n",
        "def two_sample_hypothesis_test(sample1, sample2, alpha=0.05):\n",
        "    # Calculate sample statistics\n",
        "    n1 = len(sample1)\n",
        "    n2 = len(sample2)\n",
        "    mean1 = np.mean(sample1)\n",
        "    mean2 = np.mean(sample2)\n",
        "    var1 = np.var(sample1, ddof=1)\n",
        "    var2 = np.var(sample2, ddof=1)\n",
        "\n",
        "    # Calculate pooled standard deviation\n",
        "    pooled_std = np.sqrt((var1/n1) + (var2/n2))\n",
        "\n",
        "    # Calculate t-statistic\n",
        "    t_statistic = (mean1 - mean2) / pooled_std\n",
        "\n",
        "    # Degrees of freedom\n",
        "    df = n1 + n2 - 2\n",
        "\n",
        "    # Calculate p-value\n",
        "    p_value = 1 - stats.t.cdf(np.abs(t_statistic), df)\n",
        "\n",
        "    # Determine if null hypothesis is rejected\n",
        "    if p_value < alpha:\n",
        "        print(f\"Reject null hypothesis (p-value = {p_value})\")\n",
        "    else:\n",
        "        print(f\"Fail to reject null hypothesis (p-value = {p_value})\")\n",
        "\n",
        "# Example usage\n",
        "np.random.seed(0)\n",
        "sample1 = np.random.normal(50, 10, 30)  # Sample 1 with mean 50, std deviation 10, size 30\n",
        "sample2 = np.random.normal(45, 8, 40)   # Sample 2 with mean 45, std deviation 8, size 40\n",
        "\n",
        "two_sample_hypothesis_test(sample1, sample2)\n",
        "\n"
      ],
      "metadata": {
        "colab": {
          "base_uri": "https://localhost:8080/"
        },
        "id": "XnCU_UdZvpob",
        "outputId": "dc429572-3b23-48af-a504-81640fff8b1b"
      },
      "execution_count": 5,
      "outputs": [
        {
          "output_type": "stream",
          "name": "stdout",
          "text": [
            "Reject null hypothesis (p-value = 4.945421615554224e-07)\n"
          ]
        }
      ]
    },
    {
      "cell_type": "code",
      "source": [
        "# Q6: What is a null and alternative hypothesis? Give some examples.\n",
        "# Null Hypothesis : Represents a hypothesis of no difference or no effect.\n",
        "# Example:Population mean is 100\n",
        "# Alternative Hypothesis : Represents a hypothesis that contradicts the null hypothesis.\n",
        "# Example:Population mean is not equal to 100"
      ],
      "metadata": {
        "id": "kJ_8abogvprF"
      },
      "execution_count": null,
      "outputs": []
    },
    {
      "cell_type": "code",
      "source": [
        "# Q7: Write down the steps involved in hypothesis testing.\n",
        "\n",
        "# 1)Formulate Hypotheses: State null and alternative hypotheses.\n",
        "# 2)Choose Significance Level: Select a level of significance\n",
        "# 3)Collect Data: Obtain sample data from the population.\n",
        "# 4)Compute Test Statistic: Calculate a test statistic (e.g., t-statistic, z-score).\n",
        "# 5)Calculate p-value: Determine the probability of obtaining results as extreme as the observed data under the null hypothesis.\n",
        "# 6)Make Decision: Compare the p-value with α. If p-value < α, reject ; otherwise, fail to reject.\n",
        "# 7)Draw Conclusion: Interpret the results in the context of the problem."
      ],
      "metadata": {
        "id": "2-W9mL8Fvpto"
      },
      "execution_count": 6,
      "outputs": []
    },
    {
      "cell_type": "code",
      "source": [
        "# 8: Define p-value and explain its significance in hypothesis testing.\n",
        "# P-value: The probability of obtaining a test statistic at least as extreme as the one observed, assuming the null hypothesis is true.\n",
        "\n",
        "# Significance:\n",
        "# A low p-value (typically < 0.05) suggests strong evidence against the null hypothesis, leading to its rejection.\n",
        "# A high p-value indicates weak evidence against the null hypothesis, suggesting the null hypothesis cannot be rejected."
      ],
      "metadata": {
        "id": "3gcxWfLovpwX"
      },
      "execution_count": 7,
      "outputs": []
    },
    {
      "cell_type": "code",
      "source": [
        "# Q9: Generate a Student's t-distribution plot using Python's matplotlib library, with the degrees of freedom parameter set to 10\n",
        "import numpy as np\n",
        "import matplotlib.pyplot as plt\n",
        "from scipy.stats import t\n",
        "\n",
        "# Generate x values\n",
        "x = np.linspace(-4, 4, 1000)\n",
        "\n",
        "# Degrees of freedom\n",
        "df = 10\n",
        "\n",
        "# Calculate pdf values\n",
        "y = t.pdf(x, df)\n",
        "\n",
        "# Plot the t-distribution\n",
        "plt.figure(figsize=(8, 6))\n",
        "plt.plot(x, y, label=f\"t-distribution (df={df})\")\n",
        "plt.title(\"Student's t-Distribution\")\n",
        "plt.xlabel(\"t-value\")\n",
        "plt.ylabel(\"Probability Density\")\n",
        "plt.legend()\n",
        "plt.grid(True)\n",
        "plt.show()\n"
      ],
      "metadata": {
        "colab": {
          "base_uri": "https://localhost:8080/",
          "height": 564
        },
        "id": "d8T05meovpzL",
        "outputId": "e07236bc-bc49-4cf0-c92d-b35eb153cf40"
      },
      "execution_count": 8,
      "outputs": [
        {
          "output_type": "display_data",
          "data": {
            "text/plain": [
              "<Figure size 800x600 with 1 Axes>"
            ],
            "image/png": "[encoded data removed]"
          },
          "metadata": {}
        }
      ]
    },
    {
      "cell_type": "code",
      "source": [
        "#Q10: Write a Python program to calculate the two-sample t-test for independent samples, given two random samples of equal size and a null hypothesis that the population means are equal\n",
        "import numpy as np\n",
        "from scipy import stats\n",
        "\n",
        "def two_sample_t_test(sample1, sample2, alpha=0.05):\n",
        "    # Perform two-sample t-test\n",
        "    t_statistic, p_value = stats.ttest_ind(sample1, sample2)\n",
        "\n",
        "    # Determine if null hypothesis is rejected\n",
        "    if p_value < alpha:\n",
        "        print(f\"Reject null hypothesis (p-value = {p_value})\")\n",
        "    else:\n",
        "        print(f\"Fail to reject null hypothesis (p-value = {p_value})\")\n",
        "\n",
        "# Example usage\n",
        "np.random.seed(0)\n",
        "sample1 = np.random.normal(50, 10, 30)  # Sample 1 with mean 50, std deviation 10, size 30\n",
        "sample2 = np.random.normal(45, 8, 30)   # Sample 2 with mean 45, std deviation 8, size 30\n",
        "\n",
        "two_sample_t_test(sample1, sample2)\n"
      ],
      "metadata": {
        "colab": {
          "base_uri": "https://localhost:8080/"
        },
        "id": "VYsQOF5ovp2D",
        "outputId": "fc983ebc-da0a-49e1-e361-be1bb118e2da"
      },
      "execution_count": 9,
      "outputs": [
        {
          "output_type": "stream",
          "name": "stdout",
          "text": [
            "Reject null hypothesis (p-value = 9.014498569056923e-06)\n"
          ]
        }
      ]
    },
    {
      "cell_type": "code",
      "source": [
        "# Q11: What is Student’s t distribution? When to use the t-Distribution.\n",
        "# Student's t Distribution: The t-distribution (or Student's t-distribution) is a probability distribution that is symmetric and bell-shaped, similar to the normal distribution. It is used when the sample size is small and the population standard deviation is unknown. The shape of the t-distribution depends on the degrees of freedom, which are determined by the sample size minus one.\n",
        "\n",
        "# When to use the t-Distribution:\n",
        "# Small Sample Size: When the sample size is small (typically less than 30) and the population standard deviation is unknown.\n",
        "# Estimation of Population Parameters: When estimating population parameters (like mean) from sample data, especially in cases where the sample size is not large."
      ],
      "metadata": {
        "id": "Bn-XSF9wvp4r"
      },
      "execution_count": null,
      "outputs": []
    },
    {
      "cell_type": "code",
      "source": [
        "# Q12: What is t-statistic?\n",
        "# t-Statistic: The t-statistic is a measure used in hypothesis testing to determine if the difference between two sets of data is statistically significant.\n",
        "# It is used when comparing the means of two groups or when comparing a sample mean to a known or hypothesized population mean.\n",
        "\n"
      ],
      "metadata": {
        "id": "0pxBgSLWvp7e"
      },
      "execution_count": 10,
      "outputs": []
    },
    {
      "cell_type": "code",
      "source": [],
      "metadata": {
        "id": "tO9ANOYjvqGg"
      },
      "execution_count": null,
      "outputs": []
    }
  ]
}