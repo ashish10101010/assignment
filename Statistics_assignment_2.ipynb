{
  "nbformat": 4,
  "nbformat_minor": 0,
  "metadata": {
    "colab": {
      "provenance": []
    },
    "kernelspec": {
      "name": "python3",
      "display_name": "Python 3"
    },
    "language_info": {
      "name": "python"
    }
  },
  "cells": [
    {
      "cell_type": "markdown",
      "source": [
        "#Statistics assignment_2"
      ],
      "metadata": {
        "id": "Ma6RuOBzkIKM"
      }
    },
    {
      "cell_type": "code",
      "execution_count": null,
      "metadata": {
        "id": "GTyHjDnPj_0k"
      },
      "outputs": [],
      "source": [
        "Q1. What are the three measures of central tendency?\n",
        "The three measures of central tendency are:\n",
        "\n",
        "Mean\n",
        "Median\n",
        "Mode"
      ]
    },
    {
      "cell_type": "code",
      "source": [
        "Q2. What is the difference between the mean, median, and mode? How are they used to measure the central tendency of a dataset?\n",
        "Mean:\n",
        "Definition: The arithmetic average of a dataset.\n",
        "Calculation: Sum of all values divided by the number of values.\n",
        "Usage: Provides a measure of the central point of the data. Best used for symmetric distributions without outliers.\n",
        "\n",
        "Median:\n",
        "Definition: The middle value of a dataset when ordered from least to greatest.\n",
        "Calculation: For an odd number of values, it is the middle one; for an even number, it is the average of the two middle values.\n",
        "Usage: Provides a measure of central tendency that is not affected by outliers or skewed data. Useful for skewed distributions.\n",
        "\n",
        "Mode:\n",
        "Definition: The most frequently occurring value in a dataset.\n",
        "Calculation: Identified by counting the frequency of each value.\n",
        "Usage: Useful for categorical data to determine the most common category, or for datasets with repeated values."
      ],
      "metadata": {
        "id": "h7pYHPsdkf8Z"
      },
      "execution_count": null,
      "outputs": []
    },
    {
      "cell_type": "code",
      "source": [
        "Q3. Measure the three measures of central tendency for the given height data:\n",
        "import numpy as np\n",
        "\n",
        "heights = [178, 177, 176, 177, 178.2, 178, 175, 179, 180, 175, 178.9, 176.2, 177, 172.5, 178, 176.5]\n",
        "mean_height = np.mean(heights)\n",
        "std_deviation = np.std(heights, ddof=1)\n",
        "mean_height, std_deviation\n",
        "\n",
        "\n",
        "Output:\n",
        "Mean=177.01875\n",
        "Standard_Deviation≈1.876"
      ],
      "metadata": {
        "id": "OL3Wm9nukgHP"
      },
      "execution_count": null,
      "outputs": []
    },
    {
      "cell_type": "code",
      "source": [
        "Q5. How are measures of dispersion such as range, variance, and standard deviation used to describe the spread of a dataset? Provide an example.\n",
        "\n",
        "Range:\n",
        "Definition: The difference between the maximum and minimum values.\n",
        "Usage: Provides a simple measure of the spread of the data.\n",
        "Example: In a dataset of test scores: [55, 67, 89, 90, 45], the range is 90 - 45 = 45.\n",
        "\n",
        "Variance:\n",
        "Definition: The average of the squared differences from the mean.\n",
        "Usage: Measures the dispersion of the data points around the mean.\n",
        "Example: For the heights data, the variance can be calculated as the mean of the squared deviations from the mean height.\n",
        "\n",
        "Standard Deviation:\n",
        "Definition: The square root of the variance.\n",
        "Usage: Provides a measure of the average distance of each data point from the mean. It is more interpretable than variance as it is in the same units as the data.\n",
        "Example: A standard deviation of 1.876 for the height data indicates that, on average, the heights deviate from the mean height by about 1.876 cm."
      ],
      "metadata": {
        "id": "NDX8Q7LVkgQV"
      },
      "execution_count": null,
      "outputs": []
    },
    {
      "cell_type": "code",
      "source": [
        "Q6. What is a Venn diagram?\n",
        "A Venn diagram is a diagram that shows all possible logical relations between a finite collection of different sets.\n",
        "The sets are usually represented by circles, and their relationships are depicted through their overlaps and non-overlaps."
      ],
      "metadata": {
        "id": "Jh0PLqyukgZL"
      },
      "execution_count": null,
      "outputs": []
    },
    {
      "cell_type": "code",
      "source": [
        "Q7. For the two given sets A = {2,3,4,5,6,7} & B = {0,2,6,8,10}, find:\n",
        "\n",
        "A∩B (Intersection): {2, 6}\n",
        "AUB (Union): {0, 2, 3, 4, 5, 6, 7, 8, 10}\n"
      ],
      "metadata": {
        "id": "AK-rRyGVkghX"
      },
      "execution_count": null,
      "outputs": []
    },
    {
      "cell_type": "code",
      "source": [
        "Q8. What do you understand about skewness in data?\n",
        "Skewness refers to the asymmetry or lack of symmetry in the distribution of data. It can be positive (right-skewed) or negative (left-skewed).\n",
        "Positive skewness indicates that the tail on the right side of the distribution is longer or fatter than the left side, and negative skewness indicates that the tail on the left side is longer or fatter than the right side."
      ],
      "metadata": {
        "id": "EZZVEEaukgqU"
      },
      "execution_count": null,
      "outputs": []
    },
    {
      "cell_type": "code",
      "source": [
        "Q9. If a data is right skewed then what will be the position of median with respect to mean?\n",
        "In a right-skewed distribution, the mean is typically greater than the median because the long tail on the right pulls the mean towards higher values."
      ],
      "metadata": {
        "id": "GO3nCF4nkgzR"
      },
      "execution_count": null,
      "outputs": []
    },
    {
      "cell_type": "code",
      "source": [
        "Q10. Explain the difference between covariance and correlation. How are these measures used in statistical analysis?\n",
        "\n",
        "Covariance:\n",
        "Definition: Measures the degree to which two variables change together.\n",
        "Range: Can take any value.\n",
        "Usage: Indicates the direction of the linear relationship between variables.\n",
        "\n",
        "Correlation:\n",
        "Definition: Measures the strength and direction of the linear relationship between two variables.\n",
        "Range: Between -1 and 1.\n",
        "Usage: Standardizes covariance, making it easier to interpret.\n",
        "Values close to 1 or -1 indicate a strong linear relationship, while values close to 0 indicate no linear relationship.\n",
        "\n",
        "Example:\n",
        "Covariance between height and weight can tell if they tend to increase together.\n",
        "Correlation provides a standardized measure of how strongly height and weight are related."
      ],
      "metadata": {
        "id": "Rjvax2Vfkg71"
      },
      "execution_count": null,
      "outputs": []
    },
    {
      "cell_type": "code",
      "source": [
        "Q11. What is the formula for calculating the sample mean? Provide an example calculation for a dataset.\n",
        "Formula:\n",
        "x=∑xi/n\n",
        "\n",
        "where,\n",
        "x is the sample mean, xi are the data points, and n is the number of data points.\n",
        "\n",
        "Example:\n",
        "For the dataset [5, 10, 15, 20, 25]:\n",
        "x=5+10+15+20+25\n",
        "=75/5\n",
        "=15"
      ],
      "metadata": {
        "id": "Nfmrpx2bkhE0"
      },
      "execution_count": null,
      "outputs": []
    },
    {
      "cell_type": "code",
      "source": [
        "Q12. For a normal distribution data, what is the relationship between its measure of central tendency?\n",
        "In a normal distribution, the mean, median, and mode are all equal and located at the center of the distribution."
      ],
      "metadata": {
        "id": "dnmwrzsPkhOA"
      },
      "execution_count": null,
      "outputs": []
    },
    {
      "cell_type": "code",
      "source": [
        "Q13. How is covariance different from correlation?\n",
        "Covariance measures the direction of the linear relationship between variables, while correlation measures both the strength and direction of the linear relationship.\n",
        "Correlation is a standardized form of covariance."
      ],
      "metadata": {
        "id": "rl4QC9p_pgR6"
      },
      "execution_count": null,
      "outputs": []
    },
    {
      "cell_type": "code",
      "source": [
        "Q14. How do outliers affect measures of central tendency and dispersion? Provide an example.\n",
        "\n",
        "Central Tendency:\n",
        "Mean: Outliers can significantly affect the mean, making it higher or lower than the central value of the majority of the data.\n",
        "Median: Less affected by outliers, as it is the middle value.\n",
        "Mode: Not affected by outliers, as it depends on frequency.\n",
        "\n",
        "Dispersion:\n",
        "Range: Greatly affected by outliers, as it is the difference between the maximum and minimum values.\n",
        "Variance and Standard Deviation: Outliers can increase these measures significantly, indicating more spread in the data.\n",
        "Example:\n",
        "For the dataset [10, 12, 15, 18, 100], the outlier (100) significantly increases the mean and standard deviation compared to a dataset without the outlier."
      ],
      "metadata": {
        "id": "x1q1ig0hpgXi"
      },
      "execution_count": null,
      "outputs": []
    }
  ]
}