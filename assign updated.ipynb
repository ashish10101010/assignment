{
 "cells": [
  {
   "cell_type": "code",
   "execution_count": 1,
   "id": "250e5749-214d-4bfb-997e-bafeab4f146e",
   "metadata": {},
   "outputs": [],
   "source": [
    "#assignment"
   ]
  },
  {
   "cell_type": "code",
   "execution_count": 2,
   "id": "e45173b7-ed3e-4b6b-bd02-af79d6aef250",
   "metadata": {},
   "outputs": [],
   "source": [
    "#ans 1\n",
    "t = (23.45,'pwskills',[3,4,5],(2,5))"
   ]
  },
  {
   "cell_type": "code",
   "execution_count": 3,
   "id": "0bff47fa-72a7-483d-9fca-ec46511d710f",
   "metadata": {},
   "outputs": [],
   "source": [
    "#ans 2\n",
    "var1=str\n",
    "var2=str\n",
    "var3=list\n",
    "var4=int"
   ]
  },
  {
   "cell_type": "code",
   "execution_count": 4,
   "id": "01c49a0d-4549-49b6-ac79-f93ebf8211a8",
   "metadata": {},
   "outputs": [
    {
     "data": {
      "text/plain": [
       "8"
      ]
     },
     "execution_count": 4,
     "metadata": {},
     "output_type": "execute_result"
    }
   ],
   "source": [
    "#ans 3\n",
    "#divison operator\n",
    "a=28/14\n",
    "8\n",
    "#modulus operator\n",
    "b=1/4\n",
    "1\n",
    "#division floor\n",
    "c=5//4\n",
    "1\n",
    "#power operator\n",
    "d=2**3\n",
    "8"
   ]
  },
  {
   "cell_type": "code",
   "execution_count": 5,
   "id": "085ec075-1641-4a1f-8b09-d6d4664de4ed",
   "metadata": {},
   "outputs": [
    {
     "name": "stdout",
     "output_type": "stream",
     "text": [
      "<class 'int'>\n",
      "<class 'int'>\n",
      "<class 'int'>\n",
      "<class 'int'>\n",
      "<class 'int'>\n",
      "<class 'int'>\n",
      "<class 'str'>\n",
      "<class 'bool'>\n",
      "<class 'float'>\n",
      "<class 'list'>\n"
     ]
    }
   ],
   "source": [
    "#ans 4\n",
    "l=[2,3,4,5,6,5,'pwskills',True,21.5,[2,5,6]]\n",
    "for i in l:\n",
    "    print(type(i))\n",
    "    "
   ]
  },
  {
   "cell_type": "code",
   "execution_count": 6,
   "id": "13a49ac4-f18f-46b6-8e27-04e967458d48",
   "metadata": {},
   "outputs": [
    {
     "name": "stdout",
     "output_type": "stream",
     "text": [
      "4 is purely divisible by 5 and can be divided 1 times.\n"
     ]
    }
   ],
   "source": [
    "#ans 5\n",
    "a=20\n",
    "b=5\n",
    "count=0\n",
    "while a%b==0:\n",
    "  count +=1\n",
    "  a=a//b\n",
    "if count > 0:\n",
    "  print(f\"{a} is purely divisible by {b} and can be divided {count} times.\")\n",
    "else:\n",
    "  print(f\"{a} is not purely divisible by {b}.\")"
   ]
  },
  {
   "cell_type": "code",
   "execution_count": 16,
   "id": "211c1e8a-b67b-414b-a9cb-20cf954c6981",
   "metadata": {},
   "outputs": [
    {
     "ename": "IndentationError",
     "evalue": "unexpected indent (1142040814.py, line 7)",
     "output_type": "error",
     "traceback": [
      "\u001b[0;36m  Cell \u001b[0;32mIn[16], line 7\u001b[0;36m\u001b[0m\n\u001b[0;31m    print((i),'is not divisible by 3')\u001b[0m\n\u001b[0m    ^\u001b[0m\n\u001b[0;31mIndentationError\u001b[0m\u001b[0;31m:\u001b[0m unexpected indent\n"
     ]
    }
   ],
   "source": [
    "#ans6\n",
    "l=1,2,3,4,5,6,7,8,9,10,11,12,13,14,15,16,17,18,19,20,21,22,23,24,25\n",
    "for i in l:\n",
    "    if i % 3==0:\n",
    "        print((i),'is divisible by 3')\n",
    "    else:i%3!=0\n",
    "print((i),'is not divisible by 3')\n",
    "        "
   ]
  },
  {
   "cell_type": "code",
   "execution_count": null,
   "id": "3e3af576-4531-439d-81c3-d0b34f13c046",
   "metadata": {},
   "outputs": [],
   "source": []
  }
 ],
 "metadata": {
  "kernelspec": {
   "display_name": "Python 3 (ipykernel)",
   "language": "python",
   "name": "python3"
  },
  "language_info": {
   "codemirror_mode": {
    "name": "ipython",
    "version": 3
   },
   "file_extension": ".py",
   "mimetype": "text/x-python",
   "name": "python",
   "nbconvert_exporter": "python",
   "pygments_lexer": "ipython3",
   "version": "3.10.8"
  }
 },
 "nbformat": 4,
 "nbformat_minor": 5
}
