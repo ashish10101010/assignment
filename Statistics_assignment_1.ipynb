{
  "nbformat": 4,
  "nbformat_minor": 0,
  "metadata": {
    "colab": {
      "provenance": []
    },
    "kernelspec": {
      "name": "python3",
      "display_name": "Python 3"
    },
    "language_info": {
      "name": "python"
    }
  },
  "cells": [
    {
      "cell_type": "markdown",
      "source": [
        "#Statistics assignment_1"
      ],
      "metadata": {
        "id": "Ma6RuOBzkIKM"
      }
    },
    {
      "cell_type": "code",
      "execution_count": null,
      "metadata": {
        "id": "GTyHjDnPj_0k"
      },
      "outputs": [],
      "source": [
        "Q1. What is Statistics?\n",
        "Statistics is a branch of mathematics that deals with collecting, analyzing, interpreting, presenting, and organizing data.\n",
        "It provides methods for designing experiments, surveys, and observational studies, and for analyzing the results to draw meaningful conclusions and make informed decisions."
      ]
    },
    {
      "cell_type": "code",
      "source": [
        "Q2. Define the different types of statistics and give an example of when each type might be used.\n",
        "Descriptive Statistics:\n",
        "\n",
        "Definition: Descriptive statistics summarize and describe the features of a dataset. They provide simple summaries about the sample and the measures.\n",
        "Example: Calculating the mean and standard deviation of test scores in a class to understand the overall performance and variability among students.\n",
        "Inferential Statistics:\n",
        "\n",
        "Definition: Inferential statistics use a random sample of data taken from a population to describe and make inferences about the population.\n",
        "They involve hypothesis testing, estimation, and making predictions.\n",
        "Example: Using a sample survey to estimate the average height of the entire population of a country, or testing the effectiveness of a new drug using sample data from clinical trials."
      ],
      "metadata": {
        "id": "h7pYHPsdkf8Z"
      },
      "execution_count": null,
      "outputs": []
    },
    {
      "cell_type": "code",
      "source": [
        "Q3. What are the different types of data and how do they differ from each other? Provide an example of each type of data.\n",
        "\n",
        "Nominal Data:\n",
        "Definition: Nominal data are categorical data without any order or ranking.\n",
        "Example: Gender (male, female), eye color (blue, green, brown).\n",
        "\n",
        "Ordinal Data:\n",
        "Definition: Ordinal data are categorical data with a clear ordering or ranking.\n",
        "Example: Education level (high school, bachelor’s, master’s, doctorate), satisfaction ratings (poor, fair, good, excellent).\n",
        "\n",
        "Interval Data:\n",
        "Definition: Interval data are numerical data with equal intervals between values but no true zero point.\n",
        "Example: Temperature in Celsius or Fahrenheit, dates on a calendar.\n",
        "\n",
        "Ratio Data:\n",
        "Definition: Ratio data are numerical data with equal intervals and a true zero point, allowing for meaningful comparisons of magnitudes.\n",
        "Example: Height, weight, age, income."
      ],
      "metadata": {
        "id": "OL3Wm9nukgHP"
      },
      "execution_count": null,
      "outputs": []
    },
    {
      "cell_type": "code",
      "source": [
        "Q4. Categorize the following datasets with respect to quantitative and qualitative data types:\n",
        "\n",
        "Grading in exam: A+, A, B+, B, C+, C, D, E\n",
        "Type: Qualitative (Ordinal)\n",
        "Explanation: These grades are categories with a meaningful order (A+ is higher than A, A is higher than B+, etc.), but the intervals between the grades are not necessarily equal.\n",
        "\n",
        "Colour of mangoes: yellow, green, orange, red\n",
        "Type: Qualitative (Nominal)\n",
        "Explanation: These are categories without any inherent order. One color is not ranked above another.\n",
        "\n",
        "Height data of a class: [178.9, 179, 179.5, 176, 177.2, 178.3, 175.8,...]\n",
        "Type: Quantitative (Continuous)\n",
        "Explanation: Heights are numerical values that can take any value within a range and can be measured to any desired level of precision.\n",
        "\n",
        "Number of mangoes exported by a farm: [500, 600, 478, 672, ...]\n",
        "Type: Quantitative (Discrete)\n",
        "Explanation: These are numerical values representing counts of whole items. They cannot take on fractional values and are countable.\n"
      ],
      "metadata": {
        "id": "NDX8Q7LVkgQV"
      },
      "execution_count": null,
      "outputs": []
    },
    {
      "cell_type": "code",
      "source": [
        "Q5. Explain the concept of levels of measurement and give an example of a variable for each level.\n",
        "\n",
        "Nominal Level:\n",
        "Definition: Classifies data into distinct categories without any order.\n",
        "Example: Blood type (A, B, AB, O).\n",
        "\n",
        "Ordinal Level:\n",
        "Definition: Classifies data into categories that can be ordered or ranked.\n",
        "Example: Pain severity (none, mild, moderate, severe).\n",
        "\n",
        "Interval Level:\n",
        "Definition: Data with meaningful intervals between values but no true zero point.\n",
        "Example: IQ scores.\n",
        "\n",
        "Ratio Level:\n",
        "Definition: Data with meaningful intervals and a true zero point.\n",
        "Example: Distance traveled."
      ],
      "metadata": {
        "id": "Jh0PLqyukgZL"
      },
      "execution_count": null,
      "outputs": []
    },
    {
      "cell_type": "code",
      "source": [
        "Q6. Why is it important to understand the level of measurement when analyzing data? Provide an example to illustrate your answer.\n",
        "Understanding the level of measurement is important because it determines the types of statistical analyses that can be performed and the appropriate visualizations.\n",
        "For example, calculating the mean is appropriate for interval or ratio data but not for nominal data.\n",
        "\n",
        "Example: In a survey measuring customer satisfaction (ordinal data), it would be inappropriate to calculate the mean satisfaction score.\n",
        "Instead, the median or mode would be more appropriate measures of central tendency."
      ],
      "metadata": {
        "id": "AK-rRyGVkghX"
      },
      "execution_count": null,
      "outputs": []
    },
    {
      "cell_type": "code",
      "source": [
        "Q7. How is nominal data type different from ordinal data type?\n",
        "\n",
        "Nominal Data:\n",
        "Definition: Categorical data without any order.\n",
        "Example: Types of fruit (apple, banana, orange).\n",
        "Characteristic: No inherent ranking or order among categories.\n",
        "\n",
        "Ordinal Data:\n",
        "Definition: Categorical data with a clear order or ranking.\n",
        "Example: Movie ratings (poor, average, good, excellent).\n",
        "Characteristic: Categories have a meaningful order, but intervals between categories are not equal or meaningful."
      ],
      "metadata": {
        "id": "EZZVEEaukgqU"
      },
      "execution_count": null,
      "outputs": []
    },
    {
      "cell_type": "code",
      "source": [
        "Q8. Which type of plot can be used to display data in terms of range?\n",
        "A box plot (also known as a whisker plot) is commonly used to display data in terms of range.\n",
        "It shows the distribution of the data, highlighting the median, quartiles, and potential outliers."
      ],
      "metadata": {
        "id": "GO3nCF4nkgzR"
      },
      "execution_count": null,
      "outputs": []
    },
    {
      "cell_type": "code",
      "source": [
        "Q9. Describe the difference between descriptive and inferential statistics. Give an example of each type of statistics and explain how they are used.\n",
        "\n",
        "Descriptive Statistics:\n",
        "Definition: Summarize and describe the features of a dataset.\n",
        "Example: Calculating the average score of students in a class.\n",
        "Usage: Provides a summary of the data at hand, such as measures of central tendency (mean, median) and measures of variability (range, standard deviation).\n",
        "\n",
        "Inferential Statistics:\n",
        "Definition: Use sample data to make inferences about a larger population.\n",
        "Example: Conducting a t-test to determine if there is a significant difference in average test scores between two groups of students.\n",
        "Usage: Allows researchers to draw conclusions and make predictions about a population based on sample data, including hypothesis testing and confidence intervals."
      ],
      "metadata": {
        "id": "Rjvax2Vfkg71"
      },
      "execution_count": null,
      "outputs": []
    },
    {
      "cell_type": "code",
      "source": [
        "Q10. What are some common measures of central tendency and variability used in statistics? Explain how each measure can be used to describe a dataset.\n",
        "\n",
        "Measures of Central Tendency:\n",
        "Mean:\n",
        "Definition: The arithmetic average of a dataset.\n",
        "Usage: Provides a measure of the central point of the data, useful for datasets without extreme outliers.\n",
        "\n",
        "Median:\n",
        "Definition: The middle value of a dataset when ordered from least to greatest.\n",
        "Usage: Useful for skewed distributions or when there are outliers, as it is not affected by extreme values.\n",
        "\n",
        "Mode:\n",
        "Definition: The most frequently occurring value in a dataset.\n",
        "Usage: Useful for categorical data to determine the most common category.\n",
        "Measures of Variability:\n",
        "\n",
        "Range:\n",
        "Definition: The difference between the maximum and minimum values in a dataset.\n",
        "Usage: Provides a simple measure of the spread of the data.\n",
        "\n",
        "Variance:\n",
        "Definition: The average of the squared differences from the mean.\n",
        "Usage: Measures the dispersion of the data points around the mean.\n",
        "\n",
        "Standard Deviation:\n",
        "Definition: The square root of the variance.\n",
        "Usage: Provides a measure of the average distance of each data point from the mean, useful for understanding the spread of the data.\n",
        "\n",
        "Interquartile Range (IQR):\n",
        "Definition: The difference between the first quartile (25th percentile) and the third quartile (75th percentile).\n",
        "Usage: Measures the spread of the middle 50% of the data, useful for understanding the spread in the presence of outliers."
      ],
      "metadata": {
        "id": "Nfmrpx2bkhE0"
      },
      "execution_count": null,
      "outputs": []
    },
    {
      "cell_type": "code",
      "source": [],
      "metadata": {
        "id": "dnmwrzsPkhOA"
      },
      "execution_count": null,
      "outputs": []
    }
  ]
}