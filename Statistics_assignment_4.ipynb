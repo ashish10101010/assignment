{
  "nbformat": 4,
  "nbformat_minor": 0,
  "metadata": {
    "colab": {
      "provenance": []
    },
    "kernelspec": {
      "name": "python3",
      "display_name": "Python 3"
    },
    "language_info": {
      "name": "python"
    }
  },
  "cells": [
    {
      "cell_type": "markdown",
      "source": [
        "##Statistics assignment_4"
      ],
      "metadata": {
        "id": "GTsKZYkDvi-g"
      }
    },
    {
      "cell_type": "code",
      "execution_count": null,
      "metadata": {
        "id": "P-Xwu9wPvhAh"
      },
      "outputs": [],
      "source": [
        "Q1: What are the Probability Mass Function (PMF) and Probability Density Function (PDF)? Explain with an example.\n",
        "\n",
        "Probability Mass Function (PMF):\n",
        "The PMF is a function that gives the probability that a discrete random variable is exactly equal to some value. It is used for discrete random variables.\n",
        "Example:\n",
        "Consider a fair six-sided die. The PMF of the outcome X is given by:\n",
        "P(X=x)= 1/6\n",
        "for x∈{1,2,3,4,5,6}.\n",
        "\n",
        "Probability Density Function (PDF):\n",
        "The PDF is a function that describes the likelihood of a continuous random variable to take on a given value.\n",
        "The area under the PDF curve over an interval represents the probability that the variable falls within that interval.\n"
      ]
    },
    {
      "cell_type": "code",
      "source": [
        "Q2: What is Cumulative Density Function (CDF)? Explain with an example. Why CDF is used?\n",
        "The Cumulative Density Function (CDF) of a random variable X is the function that gives the probability that\n",
        "X will take a value less than or equal to x.\n",
        "\n",
        "The CDF is used because it provides a complete description of the probability distribution of a random variable and allows for easy calculation of probabilities for intervals and other events."
      ],
      "metadata": {
        "id": "MURC81yzvpdp"
      },
      "execution_count": null,
      "outputs": []
    },
    {
      "cell_type": "code",
      "source": [
        "Q3: What are some examples of situations where the normal distribution might be used as a model? Explain how the parameters of the normal distribution relate to the shape of the distribution.\n",
        "\n",
        "Examples:\n",
        "Heights of individuals in a population.\n",
        "Test scores on standardized exams.\n",
        "Measurement errors in scientific experiments.\n",
        "IQ scores.\n",
        "Parameters of the Normal Distribution:\n",
        "\n",
        "Mean (μ): Determines the center of the distribution. It is the peak of the bell curve.\n",
        "Standard Deviation (σ): Determines the spread or width of the distribution. A larger σ results in a wider and flatter curve,\n",
        "while a smaller σ results in a narrower and taller curve."
      ],
      "metadata": {
        "id": "rpx9Zf2fvpiR"
      },
      "execution_count": null,
      "outputs": []
    },
    {
      "cell_type": "code",
      "source": [
        "Q4: Explain the importance of Normal Distribution. Give a few real-life examples of Normal Distribution.\n",
        "\n",
        "Importance of Normal Distribution:\n",
        "Central Limit Theorem: The normal distribution is fundamental to the central limit theorem, which states that the distribution of the sample mean approaches a normal distribution as the sample size increases, regardless of the population's distribution.\n",
        "Statistical Inference: Many statistical tests and methods assume normality.\n",
        "Real-World Data: Many natural phenomena and measurements approximate a normal distribution.\n",
        "\n",
        "Real-Life Examples:\n",
        "Heights and weights of people.\n",
        "Blood pressure readings.\n",
        "IQ scores.\n",
        "Measurement errors in experiments."
      ],
      "metadata": {
        "id": "oQNjCxDDvplj"
      },
      "execution_count": null,
      "outputs": []
    },
    {
      "cell_type": "code",
      "source": [
        "Q5: What is Bernoulli Distribution? Give an Example. What is the difference between Bernoulli Distribution and Binomial Distribution?\n",
        "Bernoulli Distribution:\n",
        "The Bernoulli distribution is a discrete distribution with only two possible outcomes: success (1) with probability p, and failure (0) with probability 1-p.\n",
        "\n",
        "Example:\n",
        "A single coin flip resulting in heads (success) or tails (failure).\n",
        "\n",
        "Difference:\n",
        "Bernoulli Distribution: Models a single trial with two outcomes.\n",
        "Binomial Distribution: Models the number of successes in n independent Bernoulli trials."
      ],
      "metadata": {
        "id": "XnCU_UdZvpob"
      },
      "execution_count": null,
      "outputs": []
    },
    {
      "cell_type": "code",
      "source": [
        "Q6. Consider a dataset with a mean of 50 and a standard deviation of 10. If we assume that the dataset is normally distributed, what is the probability that a randomly selected observation will be greater than 60? Use the appropriate formula and show your calculations.\n",
        "Z-Score Calculation=1\n",
        "Find the probability from the Z-table=0.8413\n",
        "Calculate the probability that X>60 =0.1587"
      ],
      "metadata": {
        "id": "kJ_8abogvprF"
      },
      "execution_count": null,
      "outputs": []
    },
    {
      "cell_type": "code",
      "source": [
        "Q7: Explain Uniform Distribution with an example.\n",
        "Uniform Distribution:\n",
        "A distribution where all outcomes are equally likely within a certain range. For a continuous uniform distribution defined on the interval [a,b], the PDF is:\n",
        "f(x)=1/b-a\n",
        "fora≤x≤b.\n",
        "\n",
        "Example:\n",
        "Rolling a fair die, where each number from 1 to 6 has an equal probability of 1/6."
      ],
      "metadata": {
        "id": "2-W9mL8Fvpto"
      },
      "execution_count": null,
      "outputs": []
    },
    {
      "cell_type": "code",
      "source": [
        "Q8: What is the Z-Score? State the importance of the Z-Score.\n",
        "Z-Score:\n",
        "The Z-score measures the number of standard deviations a data point is from the mean of the distribution.\n",
        "\n",
        "Importance:\n",
        "Standardization: Converts different data distributions to a common scale.\n",
        "Comparison: Allows comparison of scores from different distributions.\n",
        "Probability Calculation: Facilitates calculation of probabilities using the standard normal distribution."
      ],
      "metadata": {
        "id": "3gcxWfLovpwX"
      },
      "execution_count": null,
      "outputs": []
    },
    {
      "cell_type": "code",
      "source": [
        "Q9: What is Central Limit Theorem? State the significance of the Central Limit Theorem.\n",
        "Central Limit Theorem (CLT):\n",
        "The CLT states that the sampling distribution of the sample mean approaches a normal distribution as the sample size increases, regardless of the population's distribution, provided the sample size is sufficiently large.\n",
        "\n",
        "Significance:\n",
        "Foundation of Inferential Statistics: Enables the use of normal distribution techniques for hypothesis testing and confidence intervals.\n",
        "Applicability: Applies to a wide range of distributions, making it a powerful tool in statistics."
      ],
      "metadata": {
        "id": "d8T05meovpzL"
      },
      "execution_count": null,
      "outputs": []
    },
    {
      "cell_type": "code",
      "source": [
        "Q10: State the assumptions of the Central Limit Theorem.\n",
        "Independence: The samples must be independent of each other.\n",
        "Sample Size: The sample size should be sufficiently large (usually n>30 is considered sufficient).\n",
        "Random Sampling: Samples should be drawn randomly from the population."
      ],
      "metadata": {
        "id": "VYsQOF5ovp2D"
      },
      "execution_count": null,
      "outputs": []
    },
    {
      "cell_type": "code",
      "source": [],
      "metadata": {
        "id": "Bn-XSF9wvp4r"
      },
      "execution_count": null,
      "outputs": []
    },
    {
      "cell_type": "code",
      "source": [],
      "metadata": {
        "id": "0pxBgSLWvp7e"
      },
      "execution_count": null,
      "outputs": []
    },
    {
      "cell_type": "code",
      "source": [],
      "metadata": {
        "id": "tO9ANOYjvqGg"
      },
      "execution_count": null,
      "outputs": []
    }
  ]
}