{
  "nbformat": 4,
  "nbformat_minor": 0,
  "metadata": {
    "colab": {
      "provenance": []
    },
    "kernelspec": {
      "name": "python3",
      "display_name": "Python 3"
    },
    "language_info": {
      "name": "python"
    }
  },
  "cells": [
    {
      "cell_type": "markdown",
      "source": [
        "#Statistics assignment_3"
      ],
      "metadata": {
        "id": "Ma6RuOBzkIKM"
      }
    },
    {
      "cell_type": "code",
      "execution_count": null,
      "metadata": {
        "id": "GTyHjDnPj_0k"
      },
      "outputs": [],
      "source": [
        "# Q1. What is the Probability Density Function (PDF)?\n",
        "# The Probability Density Function (PDF) is a function that describes the relative likelihood for a continuous random variable to take on a given value.\n",
        "# The PDF is a fundamental concept in probability theory, which characterizes the distribution of continuous variables.\n",
        "# The area under the PDF curve over a given interval represents the probability that the random variable falls within that interval."
      ]
    },
    {
      "cell_type": "code",
      "source": [
        "# Q2. What are the types of Probability Distribution?\n",
        "# There are two main types of probability distributions:\n",
        "\n",
        "# Discrete Probability Distributions:\n",
        "# Binomial Distribution\n",
        "# Poisson Distribution\n",
        "# Geometric Distribution\n",
        "# Hypergeometric Distribution\n",
        "\n",
        "# Continuous Probability Distributions:\n",
        "# Normal Distribution\n",
        "# Exponential Distribution\n",
        "# Uniform Distribution\n",
        "# Beta Distribution\n",
        "# Gamma Distribution"
      ],
      "metadata": {
        "id": "h7pYHPsdkf8Z"
      },
      "execution_count": null,
      "outputs": []
    },
    {
      "cell_type": "code",
      "source": [
        "#Q3. Write a Python function to calculate the probability density function of a normal distribution with given mean and standard deviation at a given point.\n",
        "import math\n",
        "\n",
        "def normal_pdf(x, mean, std_dev):\n",
        "    coefficient = 1 / (std_dev * math.sqrt(2 * math.pi))\n",
        "    exponent = math.exp(-0.5 * ((x - mean) / std_dev) ** 2)\n",
        "    return coefficient * exponent\n",
        "\n",
        "# Example usage:\n",
        "mean = 0\n",
        "std_dev = 1\n",
        "x = 1\n",
        "pdf_value = normal_pdf(x, mean, std_dev)\n",
        "print(f\"The PDF value at x = {x} is {pdf_value}\")\n"
      ],
      "metadata": {
        "colab": {
          "base_uri": "https://localhost:8080/"
        },
        "id": "OL3Wm9nukgHP",
        "outputId": "4c44a28d-0bdb-416e-a473-1cd7a28f9f48"
      },
      "execution_count": 1,
      "outputs": [
        {
          "output_type": "stream",
          "name": "stdout",
          "text": [
            "The PDF value at x = 1 is 0.24197072451914337\n"
          ]
        }
      ]
    },
    {
      "cell_type": "code",
      "source": [
        "# Q4. What are the properties of Binomial Distribution? Give two examples of events where binomial distribution can be applied.\n",
        "# Properties of Binomial Distribution:\n",
        "\n",
        "# The number of trials, n, is fixed.\n",
        "# Each trial is independent.\n",
        "# There are only two possible outcomes for each trial: success or failure.\n",
        "# The probability of success, p, is constant for each trial.\n",
        "# The random variable X represents the number of successes in n trials.\n",
        "\n",
        "# Examples:\n",
        "\n",
        "# Tossing a Coin: If you toss a coin 10 times, the number of heads (successes) can be modeled using a binomial distribution with\n",
        "# n=10 and p=0.5.\n",
        "# Quality Control: In a batch of 100 products, if the probability of a product being defective is 0.02,\n",
        "# the number of defective products in the batch can be modeled using a binomial distribution with\n",
        "# n=100 and p=0.02."
      ],
      "metadata": {
        "id": "NDX8Q7LVkgQV"
      },
      "execution_count": null,
      "outputs": []
    },
    {
      "cell_type": "code",
      "source": [
        "# Q5. Generate a random sample of size 1000 from a binomial distribution with probability of success 0.4 and plot a histogram of the results using matplotlib.\n",
        "import numpy as np\n",
        "import matplotlib.pyplot as plt\n",
        "\n",
        "# Parameters\n",
        "n = 10\n",
        "p = 0.4\n",
        "size = 1000\n",
        "\n",
        "# Generate random sample\n",
        "binomial_sample = np.random.binomial(n, p, size)\n",
        "\n",
        "# Plot histogram\n",
        "plt.hist(binomial_sample, bins=range(0, n+2), edgecolor='k', alpha=0.7)\n",
        "plt.title('Histogram of Binomial Distribution Sample')\n",
        "plt.xlabel('Number of Successes')\n",
        "plt.ylabel('Frequency')\n",
        "plt.show()\n"
      ],
      "metadata": {
        "colab": {
          "base_uri": "https://localhost:8080/",
          "height": 472
        },
        "id": "Jh0PLqyukgZL",
        "outputId": "2f4e04a5-0b13-42ee-a188-6dbfbb55fdef"
      },
      "execution_count": 2,
      "outputs": [
        {
          "output_type": "display_data",
          "data": {
            "text/plain": [
              "<Figure size 640x480 with 1 Axes>"
            ],
            "image/png": "[encoded data removed]"
          },
          "metadata": {}
        }
      ]
    },
    {
      "cell_type": "code",
      "source": [
        "#Q6. Write a Python function to calculate the cumulative distribution function of a Poisson distribution with given mean at a given point\n",
        "import math\n",
        "\n",
        "def poisson_cdf(k, lam):\n",
        "    cdf = 0\n",
        "    for i in range(0, k + 1):\n",
        "        cdf += (math.exp(-lam) * lam**i) / math.factorial(i)\n",
        "    return cdf\n",
        "\n",
        "# Example usage:\n",
        "k = 5\n",
        "lam = 3\n",
        "cdf_value = poisson_cdf(k, lam)\n",
        "print(f\"The CDF value at k = {k} for Poisson distribution with λ = {lam} is {cdf_value}\")\n"
      ],
      "metadata": {
        "colab": {
          "base_uri": "https://localhost:8080/"
        },
        "id": "AK-rRyGVkghX",
        "outputId": "312a8ca9-a851-4d2f-84a4-1cf41eb8c7f3"
      },
      "execution_count": 3,
      "outputs": [
        {
          "output_type": "stream",
          "name": "stdout",
          "text": [
            "The CDF value at k = 5 for Poisson distribution with λ = 3 is 0.9160820579686966\n"
          ]
        }
      ]
    },
    {
      "cell_type": "code",
      "source": [
        "# Q7. How is Binomial distribution different from Poisson distribution?\n",
        "\n",
        "# Binomial Distribution:\n",
        "# Trials: Fixed number of trials (n).\n",
        "# Outcomes: Each trial results in a success or failure.\n",
        "# Probability of Success: Constant probability of success (p) in each trial.\n",
        "# Used When: Modeling the number of successes in a fixed number of trials\n",
        "\n",
        "# Poisson Distribution:\n",
        "# Events: Counts the number of events in a fixed interval of time or space.\n",
        "# Outcomes: Any non-negative integer (0, 1, 2, ...).\n",
        "# Rate of Occurrence: Events occur with a constant mean rate (λ).\n",
        "# Used When: Modeling the number of events in a continuous interval where events occur independently.\n",
        "\n",
        "# Key Differences:\n",
        "# The Binomial distribution models the number of successes in a fixed number of trials with a given success probability.\n",
        "# The Poisson distribution models the number of events in a fixed interval with a given average rate of occurrence."
      ],
      "metadata": {
        "id": "EZZVEEaukgqU"
      },
      "execution_count": null,
      "outputs": []
    },
    {
      "cell_type": "code",
      "source": [
        "#Q8. Generate a random sample of size 1000 from a Poisson distribution with mean 5 and calculate the sample mean and variance.\n",
        "import numpy as np\n",
        "\n",
        "# Parameters\n",
        "lam = 5\n",
        "size = 1000\n",
        "\n",
        "# Generate random sample\n",
        "poisson_sample = np.random.poisson(lam, size)\n",
        "\n",
        "# Calculate sample mean and variance\n",
        "sample_mean = np.mean(poisson_sample)\n",
        "sample_variance = np.var(poisson_sample)\n",
        "\n",
        "print(f\"Sample Mean: {sample_mean}\")\n",
        "print(f\"Sample Variance: {sample_variance}\")\n"
      ],
      "metadata": {
        "colab": {
          "base_uri": "https://localhost:8080/"
        },
        "id": "GO3nCF4nkgzR",
        "outputId": "192e1393-2d80-4e34-ecd9-c4aec294f055"
      },
      "execution_count": 4,
      "outputs": [
        {
          "output_type": "stream",
          "name": "stdout",
          "text": [
            "Sample Mean: 5.057\n",
            "Sample Variance: 5.067751\n"
          ]
        }
      ]
    },
    {
      "cell_type": "code",
      "source": [
        "# Q9. How are mean and variance related in Binomial distribution and Poisson distribution?\n",
        "\n",
        "# Binomial Distribution:\n",
        "# Mean: μ=n*p\n",
        "# Variance: =n*p*(1-p)\n",
        "# Relationship: The variance depends on both the number of trials (n) and the probability of success (p).\n",
        "\n",
        "# Poisson Distribution:\n",
        "# Mean μ=λ\n",
        "# Variance=λ\n",
        "# Relationship: The mean and variance are equal and are both equal to the rate parameter (λ)."
      ],
      "metadata": {
        "id": "Rjvax2Vfkg71"
      },
      "execution_count": 5,
      "outputs": []
    },
    {
      "cell_type": "code",
      "source": [
        "# Q10. In normal distribution with respect to mean position, where does the least frequent data appear?\n",
        "# In a normal distribution, the least frequent data appear in the tails of the distribution, farthest from the mean.\n",
        "# This is because the probability density decreases as you move away from the mean, resulting in fewer observations in the tails compared to the area around the mean."
      ],
      "metadata": {
        "id": "Nfmrpx2bkhE0"
      },
      "execution_count": null,
      "outputs": []
    },
    {
      "cell_type": "code",
      "source": [],
      "metadata": {
        "id": "dnmwrzsPkhOA"
      },
      "execution_count": null,
      "outputs": []
    },
    {
      "cell_type": "code",
      "source": [],
      "metadata": {
        "id": "rl4QC9p_pgR6"
      },
      "execution_count": null,
      "outputs": []
    },
    {
      "cell_type": "code",
      "source": [],
      "metadata": {
        "id": "x1q1ig0hpgXi"
      },
      "execution_count": null,
      "outputs": []
    }
  ]
}